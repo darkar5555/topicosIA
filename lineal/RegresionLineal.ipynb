{
 "cells": [
  {
   "cell_type": "markdown",
   "metadata": {},
   "source": [
    "# Importanto las librerias que se necesitara"
   ]
  },
  {
   "cell_type": "code",
   "execution_count": 15,
   "metadata": {},
   "outputs": [],
   "source": [
    "import pandas as pd  \n",
    "import numpy as np   \n",
    "import matplotlib.pyplot as plt"
   ]
  },
  {
   "cell_type": "markdown",
   "metadata": {},
   "source": [
    "# Lectura de datos y normalizacion de datos"
   ]
  },
  {
   "cell_type": "code",
   "execution_count": 16,
   "metadata": {},
   "outputs": [],
   "source": [
    "def leer_datos(dataset):\n",
    "    data = pd.read_csv(dataset) \n",
    "\n",
    "    data = data.iloc[:,:]\n",
    "    return data\n",
    "\n",
    "def normalizacion(data):\n",
    "    data_media = data.mean(axis=0)\n",
    "    data_std = data.std(axis=0)\n",
    "\n",
    "    data = (data - data_media)/data_std\n",
    "    return data\n"
   ]
  },
  {
   "cell_type": "code",
   "execution_count": 17,
   "metadata": {},
   "outputs": [],
   "source": [
    "from sklearn.model_selection import train_test_split\n",
    "\n",
    "#Crear Entrenamiento Prueba: conjunto de entrenamiento(70 %)\n",
    "def division_datos(data):\n",
    "    x = data.iloc[:,:-1]\n",
    "    y = data.iloc[:,-1]\n",
    "\n",
    "    X_train, X_test, y_train, y_test = train_test_split( x, y, test_size=0.30, random_state=42)\n",
    "    return X_train, X_test, y_train, y_test "
   ]
  },
  {
   "cell_type": "markdown",
   "metadata": {},
   "source": [
    "# Funciones de regresion lineal"
   ]
  },
  {
   "cell_type": "code",
   "execution_count": 23,
   "metadata": {},
   "outputs": [],
   "source": [
    "def calcular_costo(theta, X, y):\n",
    "    y_pred = np.dot(X, theta)\n",
    "    to_sum = (y_pred - y) ** 2\n",
    "    return np.sum(to_sum) / (X.shape[0]*2)\n",
    "\n",
    "def gradiente_descendente(X,y,theta):\n",
    "    cost_history = np.zeros(iters)\n",
    "    for it in range(iters):\n",
    "        H_theta = np.dot(X,theta)\n",
    "        theta = theta -(1/H_theta.shape[0])*alpha*( X.T.dot((H_theta - y)))\n",
    "        cost_history[it]  = calcular_costo(theta,X,y)\n",
    "    return theta, cost_history\n",
    "\n",
    "def ecuacion_normal(X_train, y_train):\n",
    "    theta_ = np.dot(np.dot(np.linalg.inv(np.dot(np.transpose(X_train), X_train)), np.transpose(X_train)), y_train)\n",
    "    return theta_"
   ]
  },
  {
   "cell_type": "markdown",
   "metadata": {},
   "source": [
    "# Experimentando"
   ]
  },
  {
   "cell_type": "code",
   "execution_count": 20,
   "metadata": {},
   "outputs": [
    {
     "name": "stdout",
     "output_type": "stream",
     "text": [
      "Entrenamiento usando gradiente descendente\n",
      "=========================================\n",
      "Vector Theta\n",
      "Size_(m2)    0.824822\n",
      "dtype: float64\n",
      "Costo (Error Cuadrático Medio)\n",
      "[0.4080817  0.40255127 0.39712126 ... 0.10348609 0.10348609 0.10348609]\n"
     ]
    }
   ],
   "source": [
    "#parametros\n",
    "data = leer_datos('ex1data2.csv')\n",
    "data = normalizacion(data)\n",
    "X_train, X_test, y_train, y_test = division_datos(data)\n",
    "alpha = 0.01\n",
    "iters = 1500\n",
    "theta = np.zeros([X_train.shape[1]])\n",
    "#print(theta.shape)\n",
    "#print(theta)\n",
    "\n",
    "theta, cost_history = gradiente_descendente(X_train, y_train, theta)\n",
    "\n",
    "print(\"Gradiente descendente\")\n",
    "print(\"Vector Theta\")\n",
    "print(theta)\n",
    "print(\"Costo (Error Cuadrático Medio)\")\n",
    "print(cost_history)\n",
    "\n"
   ]
  },
  {
   "cell_type": "code",
   "execution_count": 24,
   "metadata": {},
   "outputs": [
    {
     "name": "stdout",
     "output_type": "stream",
     "text": [
      "Ecuacion Normal\n",
      "Vector Theta\n",
      "[0.82482323]\n",
      "Costo (Error Cuadrático Medio)\n",
      "0.19308569913138995\n"
     ]
    }
   ],
   "source": [
    "theta_ = ecuacion_normal(X_train, y_train)\n",
    "cost = calcular_costo(theta_,X_test, y_test)\n",
    "\n",
    "print(\"Ecuacion Normal\")\n",
    "print(\"Vector Theta\")\n",
    "print(theta_)\n",
    "print(\"Costo (Error Cuadrático Medio)\")\n",
    "print(cost)"
   ]
  },
  {
   "cell_type": "markdown",
   "metadata": {},
   "source": [
    "# Ploteando los costos"
   ]
  },
  {
   "cell_type": "code",
   "execution_count": 26,
   "metadata": {},
   "outputs": [
    {
     "data": {
      "image/png": "[encoded data removed]",
      "text/plain": [
       "<Figure size 864x576 with 1 Axes>"
      ]
     },
     "metadata": {
      "needs_background": "light"
     },
     "output_type": "display_data"
    }
   ],
   "source": [
    "def plot():\n",
    "    fig, ax = plt.subplots(figsize=(12, 8))\n",
    "    ax.set_ylabel('J(Theta)')\n",
    "    ax.set_xlabel('Iterations')\n",
    "    _ = ax.plot(range(iters), cost_history, 'g.')\n",
    "    plt.show()\n",
    "\n",
    "\n",
    "    \n",
    "plot()"
   ]
  },
  {
   "cell_type": "code",
   "execution_count": null,
   "metadata": {},
   "outputs": [],
   "source": []
  }
 ],
 "metadata": {
  "kernelspec": {
   "display_name": "Python 3",
   "language": "python",
   "name": "python3"
  },
  "language_info": {
   "codemirror_mode": {
    "name": "ipython",
    "version": 3
   },
   "file_extension": ".py",
   "mimetype": "text/x-python",
   "name": "python",
   "nbconvert_exporter": "python",
   "pygments_lexer": "ipython3",
   "version": "3.7.3"
  }
 },
 "nbformat": 4,
 "nbformat_minor": 2
}
